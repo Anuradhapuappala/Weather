{
  "nbformat": 4,
  "nbformat_minor": 0,
  "metadata": {
    "colab": {
      "provenance": [],
      "authorship_tag": "ABX9TyM48hDsIC8FYgo6JKNBuu3x",
      "include_colab_link": true
    },
    "kernelspec": {
      "name": "python3",
      "display_name": "Python 3"
    },
    "language_info": {
      "name": "python"
    }
  },
  "cells": [
    {
      "cell_type": "markdown",
      "metadata": {
        "id": "view-in-github",
        "colab_type": "text"
      },
      "source": [
        "<a href=\"https://colab.research.google.com/github/Anuradhapuappala/Weather/blob/main/Weather_prediction.ipynb\" target=\"_parent\"><img src=\"https://colab.research.google.com/assets/colab-badge.svg\" alt=\"Open In Colab\"/></a>"
      ]
    },
    {
      "cell_type": "code",
      "execution_count": 9,
      "metadata": {
        "colab": {
          "base_uri": "https://localhost:8080/"
        },
        "id": "R6MiCH5kDl_y",
        "outputId": "4201f884-61a3-4258-9066-ba75470da58a"
      },
      "outputs": [
        {
          "output_type": "stream",
          "name": "stdout",
          "text": [
            "Enter city name: Chicago\n",
            "Latest temperature in Chicago: -1.56°C\n"
          ]
        },
        {
          "output_type": "stream",
          "name": "stderr",
          "text": [
            "<ipython-input-9-5086850fbe56>:14: SettingWithCopyWarning: \n",
            "A value is trying to be set on a copy of a slice from a DataFrame.\n",
            "Try using .loc[row_indexer,col_indexer] = value instead\n",
            "\n",
            "See the caveats in the documentation: https://pandas.pydata.org/pandas-docs/stable/user_guide/indexing.html#returning-a-view-versus-a-copy\n",
            "  city_data['Date_Time'] = pd.to_datetime(city_data['Date_Time'])\n"
          ]
        }
      ],
      "source": [
        "import pandas as pd\n",
        "\n",
        "def get_latest_temperature(city, file_path):\n",
        "    # Load the CSV file\n",
        "    df = pd.read_csv('/content/ANURADHA DATASET.csv')\n",
        "\n",
        "    # Filter data for the given city\n",
        "    city_data = df[df['Location'].str.lower() == city.lower()]\n",
        "\n",
        "    if city_data.empty:\n",
        "        return f\"No data available for {city}.\"\n",
        "\n",
        "    # Convert 'Date_Time' to datetime and get the latest record\n",
        "    city_data['Date_Time'] = pd.to_datetime(city_data['Date_Time'])\n",
        "    latest_record = city_data.sort_values(by='Date_Time', ascending=False).iloc[0]\n",
        "\n",
        "    return f\"Latest temperature in {city}: {latest_record['Temperature_C']:.2f}°C\"\n",
        "\n",
        "# Example usage\n",
        "file_path = \"/content/ANURADHA DATASET.csv\"  # Update with correct path if needed\n",
        "city_name = input(\"Enter city name: \")\n",
        "print(get_latest_temperature(city_name, file_path))\n"
      ]
    }
  ]
}